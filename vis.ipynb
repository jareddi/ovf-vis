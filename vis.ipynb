{
 "cells": [
  {
   "cell_type": "code",
   "execution_count": null,
   "id": "e0482c83",
   "metadata": {},
   "outputs": [],
   "source": [
    "import os\n",
    "import numpy as np\n",
    "import discretisedfield as df\n",
    "import matplotlib.pyplot as plt\n",
    "from mpl_toolkits.axes_grid1 import make_axes_locatable\n",
    "import matplotlib.colors as colors\n",
    "from matplotlib import cm\n",
    "from pathlib import Path\n",
    "from matplotlib.animation import FuncAnimation, PillowWriter"
   ]
  },
  {
   "cell_type": "markdown",
   "id": "8e1ff238",
   "metadata": {},
   "source": [
    "## Instructions"
   ]
  },
  {
   "cell_type": "markdown",
   "id": "350394c8",
   "metadata": {},
   "source": [
    "1) Run the cell above to import all of the necessary packages. If you get an error, doublecheck that these are all installed.\n",
    "\n",
    "2) In the cell below, edit the path to the folder containing your ovf files. Remember that './' refers to the folder this notebook is in. So that would mean that './folder1/folder2' tells python: starting from here, look in folder1, then folder2. You can also use '../' to search in the folder holding this one. Alternatively you can just copy the entire path to the ovf containing folder.\n",
    "\n",
    "3) Run all of the cells from the very top until you reach the Image Maker section. These cells contain functions that break the whole process into easier to handle pieces.\n",
    "\n",
    "4) Find the section you want to use (Image/gif maker, single/multi component), edit options found in the cell as necessary and run."
   ]
  },
  {
   "cell_type": "code",
   "execution_count": null,
   "id": "27b8ed7e",
   "metadata": {},
   "outputs": [],
   "source": [
    "# Gathers .ovf files and places them into a list\n",
    "pname = Path('./initialize/Holes/35um_4096.out') # path to the folder containing \".ovf\" files\n",
    "fnames = sorted(pname.glob('*.ovf')) # gets and sorts all the \".ovf\" files into a list called fnames"
   ]
  },
  {
   "cell_type": "code",
   "execution_count": null,
   "id": "39417323",
   "metadata": {},
   "outputs": [],
   "source": [
    "# Here are some global variables for making plots\n",
    "norm = colors.CenteredNorm() # this ensures the color map is centered around zero\n",
    "cmap = cm.coolwarm # color map, can be changed without breaking the script\n",
    "lbl = ['x','y','z'] # labels for magnetization components"
   ]
  },
  {
   "cell_type": "markdown",
   "id": "7c62e10d",
   "metadata": {},
   "source": [
    "## Functions"
   ]
  },
  {
   "cell_type": "code",
   "execution_count": null,
   "id": "0599dd68",
   "metadata": {},
   "outputs": [],
   "source": [
    "# this function takes an ovf file from the fnames list and returns an array of magnetization values\n",
    "# the layer option chooses the 2D magnetization at the given layer; if layer=None, integrate mag. along z\n",
    "\n",
    "def ovf_to_array(fname, layer=None):\n",
    "    m = df.Field.fromfile(str(fname))\n",
    "    if layer==None:\n",
    "        m_array = m.project('z').array[:,:,0,:]\n",
    "    else:\n",
    "        m_array = m.array[:,:,layer,:]\n",
    "    arr = np.transpose(m_array, [1,0,2])\n",
    "    return arr"
   ]
  },
  {
   "cell_type": "code",
   "execution_count": null,
   "id": "91334cd8",
   "metadata": {},
   "outputs": [],
   "source": [
    "# this function plots one component of the 2D magnetization returned by ovf_to_array\n",
    "# options to choose layer, mag. component (x=0,y=1,z=2), and image cropping\n",
    "# crops must be entered as lists of bounds: [xmin,xmax] and [ymin,ymax]\n",
    "\n",
    "def plot_ovf(fname, layer, component = 2, cropx = [None,None], cropy = [None,None]):\n",
    "    m = ovf_to_array(fname,layer)\n",
    "    arr = m[cropy[0]:cropy[1],cropx[0]:cropx[1],component]\n",
    "    pc = ax.pcolormesh(arr, norm=norm, cmap=cmap)\n",
    "    ax.set_title(f'Magnetization {lbl[component]}-component ({str(fname)[-6:-4]} L{layer})')\n",
    "\n",
    "    plt.show()"
   ]
  },
  {
   "cell_type": "code",
   "execution_count": null,
   "id": "1ee1e240",
   "metadata": {},
   "outputs": [],
   "source": [
    "# this function plots all three components of the 2D magnetization returned by ovf_to_array side by side\n",
    "# options to choose layer and image cropping\n",
    "# crops must be entered as lists of bounds: [xmin,xmax] and [ymin,ymax]\n",
    "\n",
    "def plot_ovf_all(fname, layer, cropx = [None,None], cropy = [None,None]):\n",
    "    m = ovf_to_array(fname, layer)\n",
    "    arr0 = m[cropy[0]:cropy[1],cropx[0]:cropx[1],0]\n",
    "    arr1 = m[cropy[0]:cropy[1],cropx[0]:cropx[1],1]\n",
    "    arr2 = m[cropy[0]:cropy[1],cropx[0]:cropx[1],2]\n",
    "    \n",
    "    pc0 = ax[0].pcolormesh(arr0, norm=norm, cmap=cmap)\n",
    "    pc1 = ax[1].pcolormesh(arr1, norm=norm, cmap=cmap)\n",
    "    pc2 = ax[2].pcolormesh(arr2, norm=norm, cmap=cmap)\n",
    "\n",
    "    ax[0].set_title(lbl[0]+'-component')\n",
    "    ax[1].set_title(lbl[1]+'-component')\n",
    "    ax[2].set_title(lbl[2]+'-component')\n",
    "    fig.suptitle(f'Magnetization ({str(fname)[-7:-4]} L{layer})')\n",
    "    \n",
    "    plt.show()"
   ]
  },
  {
   "cell_type": "code",
   "execution_count": null,
   "id": "d84248ff",
   "metadata": {},
   "outputs": [],
   "source": [
    "# this function warns the user if the ovf resolution exceeds \n",
    "def get_res_warning(arr,ax):\n",
    "    arr_height,arr_width = arr.shape\n",
    "    px_height,px_width = ax.get_window_extent().height,ax.get_window_extent().width\n",
    "    if (arr_height>px_height) or (arr_width>px_width):\n",
    "        print('WARNING: figsize and dpi are not large enough to display cells from the .ovf file!')"
   ]
  },
  {
   "cell_type": "code",
   "execution_count": null,
   "id": "4bff8808",
   "metadata": {},
   "outputs": [],
   "source": [
    "# this function initializes the figure with one component plot\n",
    "\n",
    "def make_1comp_fig(layer, component, cropx, cropy, figsize=(8,8), dpi=72.0):\n",
    "    m = ovf_to_array(fnames[0],layer)\n",
    "    arr = m[cropy[0]:cropy[1],cropx[0]:cropx[1],component]\n",
    "\n",
    "    fig, ax = plt.subplots(figsize=figsize)\n",
    "    fig.tight_layout()\n",
    "    fig.set_dpi(dpi)\n",
    "    ax.set_aspect('equal')\n",
    "    ax.apply_aspect()\n",
    "    pc = ax.pcolormesh(arr, norm=norm, cmap=cmap)\n",
    "    \n",
    "    ax.set_title(f'Magnetization {lbl[component]}-component ({str(fname)[-6:-4]} L{layer})')\n",
    "    \n",
    "    divider = make_axes_locatable(ax)\n",
    "    cax = divider.append_axes('right', size='5%', pad=0.1)\n",
    "    bounds = np.linspace(-1,1,100,endpoint=True)\n",
    "    ticks = np.linspace(-1,1,3,endpoint=True)\n",
    "    fig.colorbar(pc,cax=cax,boundaries=bounds,ticks=ticks)\n",
    "    \n",
    "    get_res_warning(arr,ax)\n",
    "            \n",
    "    return fig, ax, dpi"
   ]
  },
  {
   "cell_type": "code",
   "execution_count": null,
   "id": "30358a07",
   "metadata": {},
   "outputs": [],
   "source": [
    "# this function initialzies the figure with three component plots\n",
    "\n",
    "def make_3comp_fig(i, layer, cropx, cropy, figsize=(24,8), dpi=72.0):\n",
    "    m = ovf_to_array(fnames[0],layer)\n",
    "    arr0 = m[cropy[0]:cropy[1],cropx[0]:cropx[1],0]\n",
    "    arr1 = m[cropy[0]:cropy[1],cropx[0]:cropx[1],1]\n",
    "    arr2 = m[cropy[0]:cropy[1],cropx[0]:cropx[1],2]\n",
    "\n",
    "    fig, ax = plt.subplots(ncols=3, figsize=figsize, constrained_layout=1)\n",
    "    fig.set_dpi(dpi)\n",
    "    ax[0].set_aspect('equal')\n",
    "    ax[1].set_aspect('equal')\n",
    "    ax[2].set_aspect('equal')\n",
    "    pc0 = ax[0].pcolormesh(arr0, norm=norm, cmap=cmap)\n",
    "    pc1 = ax[1].pcolormesh(arr1, norm=norm, cmap=cmap)\n",
    "    pc2 = ax[2].pcolormesh(arr2, norm=norm, cmap=cmap)\n",
    "    \n",
    "    ax[0].set_title(lbl[0]+'-component')\n",
    "    ax[1].set_title(lbl[1]+'-component')\n",
    "    ax[2].set_title(lbl[2]+'-component')\n",
    "    fig.suptitle(f'Magnetization ({str(fname)[-7:-4]} L{layer})')\n",
    "    \n",
    "    bounds = np.linspace(-1,1,100,endpoint=True)\n",
    "    ticks = np.linspace(-1,1,5,endpoint=True)\n",
    "    fig.colorbar(pc,ax=ax,location='bottom',boundaries=bounds,ticks=ticks,shrink=0.50)\n",
    "    \n",
    "    get_res_warning(arr0,ax0)\n",
    "    \n",
    "    return fig, ax, dpi"
   ]
  },
  {
   "cell_type": "markdown",
   "id": "06cc84d5",
   "metadata": {},
   "source": [
    "## Image makers"
   ]
  },
  {
   "cell_type": "markdown",
   "id": "397953a1",
   "metadata": {},
   "source": [
    "### single component"
   ]
  },
  {
   "cell_type": "code",
   "execution_count": null,
   "id": "65341d85",
   "metadata": {
    "scrolled": true
   },
   "outputs": [],
   "source": [
    "# Checks that at least one ovf file has been found\n",
    "fname = fnames[10]\n",
    "print(fname)"
   ]
  },
  {
   "cell_type": "code",
   "execution_count": null,
   "id": "a028ceb6",
   "metadata": {
    "scrolled": false
   },
   "outputs": [],
   "source": [
    "i = 2 # choose which ovf file to process\n",
    "component = 1 # choose which component of the magnetization to plot\n",
    "layer = None # choose which layer to plot, layer=None will integrate the magnetization through the material.\n",
    "cropx = [None,None] # crops the image in the x direction, formatting: cropx=[xmin,xmax]\n",
    "cropy = [None,None] # crops the image in the y direction, formatting: cropy=[ymin,ymax]\n",
    "#cropx = [236,276]\n",
    "#cropy = [0,80]\n",
    "\n",
    "# this section initializes the figure shape, color map, and color bar\n",
    "fig,ax,_ = make_1comp_fig(layer, component, cropx, cropy, figsize=(20,20), dpi=200.0)\n",
    "\n",
    "# plots the data in the figure\n",
    "plot_ovf(fnames[i],layer,component,cropx,cropy)\n",
    "\n",
    "# saves the figure, commented out by default since I just use the image maker to test before using the gif maker\n",
    "#fig.savefig('test.png')"
   ]
  },
  {
   "cell_type": "markdown",
   "id": "63ca7284",
   "metadata": {},
   "source": [
    "### three components"
   ]
  },
  {
   "cell_type": "code",
   "execution_count": null,
   "id": "61b51fef",
   "metadata": {
    "scrolled": true
   },
   "outputs": [],
   "source": [
    "# same as above, but modified for a 3-wide subplot, each of which also needs to be initialized.\n",
    "i = 0\n",
    "layer = None\n",
    "cropx = [None,None]\n",
    "cropy = [None,None]\n",
    "#cropy = [246,266]\n",
    "#cropx = [0,100]\n",
    "\n",
    "# this section initializes the figure shape, color map, and color bar\n",
    "# if you get a warning, increase figsize and dpi\n",
    "fig,ax,_ = make_3comp_fig(i, layer, cropx, cropy, figsize=(20,20), dpi=200.0)\n",
    "\n",
    "# plots the data in the figure\n",
    "plot_ovf_all(fnames[i], layer, cropx, cropy)\n",
    "\n",
    "# saves the figure, commented out by default since I just use the image maker to test before using the gif maker\n",
    "#fig.savefig('test.png')"
   ]
  },
  {
   "cell_type": "markdown",
   "id": "44f163bd",
   "metadata": {},
   "source": [
    "## Gif-makers"
   ]
  },
  {
   "cell_type": "markdown",
   "id": "200f6ac5",
   "metadata": {},
   "source": [
    "### single component"
   ]
  },
  {
   "cell_type": "code",
   "execution_count": null,
   "id": "5234bafd",
   "metadata": {},
   "outputs": [],
   "source": [
    "# same as above\n",
    "layer = None\n",
    "component = 2\n",
    "cropx = [None,None]\n",
    "cropy = [None,None]\n",
    "#cropx = [1024-100,1024+100]\n",
    "#cropy = [1848,2048]\n",
    "\n",
    "# this section initializes the figure shape, color map, and color bar\n",
    "fig,ax,dpi = make_1comp_fig(layer, component, cropx, cropy, figsize=(20,20), dpi=200.0)\n",
    "\n",
    "# This block uses matplotlib FuncAnimation, which writes a frame by calling the function plot_ovf on an entry in the fnames list.\n",
    "ani = FuncAnimation(fig, plot_ovf, fnames, fargs=[layer,component,cropx,cropy])\n",
    "writer = PillowWriter(fps=2)\n",
    "#ani.save('test.gif', writer=writer)\n",
    "ani.save(f'hole_edge_2048_{lbl[component]}.gif', writer=writer, dpi=dpi)"
   ]
  },
  {
   "cell_type": "markdown",
   "id": "b178e402",
   "metadata": {},
   "source": [
    "### three components"
   ]
  },
  {
   "cell_type": "code",
   "execution_count": null,
   "id": "51e11c6a",
   "metadata": {},
   "outputs": [],
   "source": [
    "# same as above\n",
    "layer = None\n",
    "cropx = [None,None]\n",
    "cropy = [None,None]\n",
    "#cropx = [246,266]\n",
    "#cropy = [0,20]\n",
    "\n",
    "# this section initializes the figure shape, color map, and color bar\n",
    "# if you get a warning, increase figsize and dpi\n",
    "fig,ax,_ = make_3comp_fig(i, layer, cropx, cropy, figsize=(24,8), dpi=200.0)\n",
    "\n",
    "ani = FuncAnimation(fig, plot_ovf_all, fnames, fargs = [layer,cropx,cropy])\n",
    "writer = PillowWriter(fps=2)\n",
    "ani.save('./gifs/hole gifs/35um_2048.gif', writer=writer, dpi=dpi)"
   ]
  },
  {
   "cell_type": "code",
   "execution_count": null,
   "id": "aa756912",
   "metadata": {},
   "outputs": [],
   "source": []
  }
 ],
 "metadata": {
  "kernelspec": {
   "display_name": "Python 3 (ipykernel)",
   "language": "python",
   "name": "python3"
  },
  "language_info": {
   "codemirror_mode": {
    "name": "ipython",
    "version": 3
   },
   "file_extension": ".py",
   "mimetype": "text/x-python",
   "name": "python",
   "nbconvert_exporter": "python",
   "pygments_lexer": "ipython3",
   "version": "3.9.7"
  }
 },
 "nbformat": 4,
 "nbformat_minor": 5
}
