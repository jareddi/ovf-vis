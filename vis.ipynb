{
 "cells": [
  {
   "cell_type": "code",
   "execution_count": null,
   "id": "e0482c83",
   "metadata": {},
   "outputs": [],
   "source": [
    "import os\n",
    "import numpy as np\n",
    "import discretisedfield as df\n",
    "import matplotlib.pyplot as plt\n",
    "import matplotlib.colors as colors\n",
    "import matplotlib.cbook as cbook\n",
    "from matplotlib import cm\n",
    "from pathlib import Path\n",
    "from matplotlib.animation import FuncAnimation, PillowWriter"
   ]
  },
  {
   "cell_type": "markdown",
   "id": "8e1ff238",
   "metadata": {},
   "source": [
    "## Instructions"
   ]
  },
  {
   "cell_type": "markdown",
   "id": "350394c8",
   "metadata": {},
   "source": [
    "1) Run the cell above to import all of the necessary packages. If you get an error, doublecheck that these are all installed.\n",
    "\n",
    "2) In the cell below, edit the path to the folder containing your ovf files. Remember that './' refers to the folder this notebook is in. So that would mean that './folder1/folder2' tells python: starting from here, look in folder1, then folder2. You can also use '../' to search in the folder holding this one. Alternatively you can just copy the entire path to the ovf containing folder.\n",
    "\n",
    "3) Run all of the cells from the very top until you reach the Image Maker section. These cells contain functions that break the whole process into easier to handle pieces.\n",
    "\n",
    "4) Find the section you want to use (Image/gif maker, single/multi component), edit options found in the cell as necessary and run."
   ]
  },
  {
   "cell_type": "code",
   "execution_count": null,
   "id": "27b8ed7e",
   "metadata": {},
   "outputs": [],
   "source": [
    "# Gathers .ovf files and places them into a list\n",
    "pname = Path('./initialize/Holes/holes_ns_512') # path to the folder containing \".ovf\" files\n",
    "fnames = sorted(pname.glob('*.ovf')) # gets and sorts all the \".ovf\" files into a list called fnames"
   ]
  },
  {
   "cell_type": "code",
   "execution_count": null,
   "id": "39417323",
   "metadata": {},
   "outputs": [],
   "source": [
    "# Here are some global variables for making plots\n",
    "norm = colors.CenteredNorm() # this ensures the color map is centered around zero\n",
    "cmap = cm.coolwarm # color map, can be changed without breaking the script\n",
    "lbl = ['x','y','z'] # labels for magnetization components"
   ]
  },
  {
   "cell_type": "markdown",
   "id": "7c62e10d",
   "metadata": {},
   "source": [
    "## Functions"
   ]
  },
  {
   "cell_type": "code",
   "execution_count": null,
   "id": "0599dd68",
   "metadata": {},
   "outputs": [],
   "source": [
    "# this function takes an ovf file from the fnames list and returns an array of magnetization values\n",
    "# the layer option chooses the 2D magnetization at the given layer; if layer=None, integrate mag. along z\n",
    "\n",
    "def ovf_to_array(fname, layer=None):\n",
    "    m = df.Field.fromfile(str(fname))\n",
    "    if layer==None:\n",
    "        m_array = m.project('z').array[:,:,0,:]\n",
    "    else:\n",
    "        m_array = m.array[:,:,layer,:]\n",
    "    return m_array"
   ]
  },
  {
   "cell_type": "code",
   "execution_count": null,
   "id": "91334cd8",
   "metadata": {},
   "outputs": [],
   "source": [
    "# this function plots one component of the 2D magnetization returned by ovf_to_array\n",
    "# options to choose layer, mag. component (x=0,y=1,z=2), and image cropping\n",
    "# crops must be entered as lists of bounds: [xmin,xmax] and [ymin,ymax]\n",
    "\n",
    "def plot_ovf(fname, layer, component = 2, cropx = [None,None], cropy = [None,None]):\n",
    "    m = ovf_to_array(fname,layer)\n",
    "    arr = m[cropy[0]:cropy[1],cropx[0]:cropx[1],component]\n",
    "    pc = ax.pcolormesh(arr, norm=norm, cmap=cmap)\n",
    "    pc.set_clim(np.min(arr),np.max(arr))\n",
    "    ax.set_title(f'Magnetization {lbl[component]}-component ({str(fname)[-6:-4]} - layer{layer})')\n",
    "    \n",
    "    plt.show()"
   ]
  },
  {
   "cell_type": "code",
   "execution_count": null,
   "id": "1ee1e240",
   "metadata": {},
   "outputs": [],
   "source": [
    "# this function plots all three components of the 2D magnetization returned by ovf_to_array side by side\n",
    "# options to choose layer and image cropping\n",
    "# crops must be entered as lists of bounds: [xmin,xmax] and [ymin,ymax]\n",
    "\n",
    "def plot_ovf_all(fname, layer, cropx = [None,None], cropy = [None,None]):\n",
    "    m = ovf_to_array(fname, layer)\n",
    "    arr0 = m[cropy[0]:cropy[1],cropx[0]:cropx[1],0]\n",
    "    arr1 = m[cropy[0]:cropy[1],cropx[0]:cropx[1],1]\n",
    "    arr2 = m[cropy[0]:cropy[1],cropx[0]:cropx[1],2]\n",
    "    \n",
    "    pc0 = ax0.pcolormesh(arr0, norm=norm, cmap=cmap)\n",
    "    pc1 = ax1.pcolormesh(arr1, norm=norm, cmap=cmap)\n",
    "    pc2 = ax2.pcolormesh(arr2, norm=norm, cmap=cmap)\n",
    "\n",
    "    pc0.set_clim(np.min(arr0), np.max(arr0))\n",
    "    pc1.set_clim(np.min(arr1), np.max(arr1))\n",
    "    pc2.set_clim(np.min(arr2), np.max(arr2))\n",
    "    \n",
    "    ax0.set_title(lbl[0]+'-component')\n",
    "    ax1.set_title(lbl[1]+'-component')\n",
    "    ax2.set_title(lbl[2]+'-component')\n",
    "    fig.suptitle(f'Magnetization ({str(fname)[-7:-4]} - layer{layer})', fontsize=16)\n",
    "    \n",
    "    plt.show()"
   ]
  },
  {
   "cell_type": "markdown",
   "id": "06cc84d5",
   "metadata": {},
   "source": [
    "## Image makers"
   ]
  },
  {
   "cell_type": "markdown",
   "id": "397953a1",
   "metadata": {},
   "source": [
    "### single component"
   ]
  },
  {
   "cell_type": "code",
   "execution_count": null,
   "id": "65341d85",
   "metadata": {
    "scrolled": true
   },
   "outputs": [],
   "source": [
    "# Checks that at least one ovf file has been found\n",
    "fname = fnames[0]\n",
    "print(fname)"
   ]
  },
  {
   "cell_type": "code",
   "execution_count": null,
   "id": "a028ceb6",
   "metadata": {},
   "outputs": [],
   "source": [
    "i = 0 # choose which ovf file to process\n",
    "component = 2 # choose which component of the magnetization to plot\n",
    "layer = None # choose which layer to plot, layer=None will integrate the magnetization through the material.\n",
    "cropx = [None,None] # crops the image in the x direction, formatting: cropx=[xmin,xmax]\n",
    "cropy = [None,None] # crops the image in the y direction, formatting: cropy=[ymin,ymax]\n",
    "#cropx = [246,266]\n",
    "#cropy = [0,20]\n",
    "\n",
    "# this section initializes the figure shape, color map, and color bar\n",
    "m = ovf_to_array(fnames[i],layer)\n",
    "arr = m[cropy[0]:cropy[1],cropx[0]:cropx[1],component]\n",
    "fig, ax = plt.subplots()\n",
    "pc = ax.pcolormesh(arr, norm=norm, cmap=cmap)\n",
    "fig.colorbar(pc, ax=ax)\n",
    "\n",
    "# plots the data in the figure\n",
    "plot_ovf(fnames[i],layer,component,cropx,cropy)\n",
    "\n",
    "# saves the figure, commented out by default since I just use the image maker to test before using the gif maker\n",
    "#fig.savefig('test.png')"
   ]
  },
  {
   "cell_type": "markdown",
   "id": "63ca7284",
   "metadata": {},
   "source": [
    "### three components"
   ]
  },
  {
   "cell_type": "code",
   "execution_count": null,
   "id": "61b51fef",
   "metadata": {},
   "outputs": [],
   "source": [
    "# same as above, but modified for a 3-wide subplot, each of which also needs to be initialized.\n",
    "i=0\n",
    "layer=None\n",
    "cropx = [None,None]\n",
    "cropy = [None,None]\n",
    "#cropx = [246,266]\n",
    "#cropy = [0,20]\n",
    "\n",
    "m = ovf_to_array(fnames[0],layer)\n",
    "arr0 = m[cropy[0]:cropy[1],cropx[0]:cropx[1],0]\n",
    "arr1 = m[cropy[0]:cropy[1],cropx[0]:cropx[1],1]\n",
    "arr2 = m[cropy[0]:cropy[1],cropx[0]:cropx[1],2]\n",
    "\n",
    "fig, (ax0,ax1,ax2) = plt.subplots(1,3, figsize=(20,6),constrained_layout=True)\n",
    "pc0 = ax0.pcolormesh(arr0, norm=norm, cmap=cmap)\n",
    "pc1 = ax1.pcolormesh(arr1, norm=norm, cmap=cmap)\n",
    "pc2 = ax2.pcolormesh(arr2, norm=norm, cmap=cmap)\n",
    "fig.colorbar(pc0, ax=ax0)\n",
    "fig.colorbar(pc1, ax=ax1)\n",
    "fig.colorbar(pc2, ax=ax2)\n",
    "\n",
    "plot_ovf_all(fnames[i], layer, cropx, cropy)\n",
    "\n",
    "# saves the figure, commented out by default since I just use the image maker to test before using the gif maker\n",
    "#fig.savefig('test.png')"
   ]
  },
  {
   "cell_type": "markdown",
   "id": "44f163bd",
   "metadata": {},
   "source": [
    "## Gif-makers"
   ]
  },
  {
   "cell_type": "markdown",
   "id": "200f6ac5",
   "metadata": {},
   "source": [
    "### single component"
   ]
  },
  {
   "cell_type": "code",
   "execution_count": null,
   "id": "5234bafd",
   "metadata": {},
   "outputs": [],
   "source": [
    "# same as above\n",
    "layer = None\n",
    "component = 2\n",
    "cropx = [None,None]\n",
    "cropy = [None,None]\n",
    "#cropx = [246,266]\n",
    "#cropy = [0,20]\n",
    "\n",
    "# same as above\n",
    "m = ovf_to_array(fnames[0],layer)\n",
    "arr = m[cropy[0]:cropy[1],cropx[0]:cropx[1],component]\n",
    "fig, ax = plt.subplots()\n",
    "pc = ax.pcolormesh(arr, norm=norm, cmap=cmap)\n",
    "fig.colorbar(pc, ax=ax)\n",
    "\n",
    "# This block uses matplotlib FuncAnimation, which writes a frame by calling the function plot_ovf on an entry in the fnames list.\n",
    "ani = FuncAnimation(fig, plot_ovf, fnames, fargs=[layer,component,cropx,cropy])\n",
    "writer = PillowWriter(fps=2)\n",
    "ani.save(f'test_{lbl[component]}.gif', writer=writer)"
   ]
  },
  {
   "cell_type": "markdown",
   "id": "b178e402",
   "metadata": {},
   "source": [
    "### three components"
   ]
  },
  {
   "cell_type": "code",
   "execution_count": null,
   "id": "51e11c6a",
   "metadata": {},
   "outputs": [],
   "source": [
    "# same as above\n",
    "layer = None\n",
    "#cropx = [None,None]\n",
    "#cropy = [None,None]\n",
    "cropx = [246,266]\n",
    "cropy = [0,20]\n",
    "\n",
    "m = ovf_to_array(fnames[0],layer)\n",
    "arr0 = m[cropy[0]:cropy[1],cropx[0]:cropx[1],0]\n",
    "arr1 = m[cropy[0]:cropy[1],cropx[0]:cropx[1],1]\n",
    "arr2 = m[cropy[0]:cropy[1],cropx[0]:cropx[1],2]\n",
    "\n",
    "fig, (ax0,ax1,ax2) = plt.subplots(1,3, figsize=(20,6),constrained_layout=True)\n",
    "pc0 = ax0.pcolormesh(arr0, norm=norm, cmap=cmap)\n",
    "pc1 = ax1.pcolormesh(arr1, norm=norm, cmap=cmap)\n",
    "pc2 = ax2.pcolormesh(arr2, norm=norm, cmap=cmap)\n",
    "fig.colorbar(pc0, ax=ax0)\n",
    "fig.colorbar(pc1, ax=ax1)\n",
    "fig.colorbar(pc2, ax=ax2)\n",
    "\n",
    "ani = FuncAnimation(fig, plot_ovf_all, fnames, fargs = [layer,cropx,cropy])\n",
    "writer = PillowWriter(fps=2)\n",
    "ani.save('./gifs/hole gifs/holes_ns_512.gif', writer=writer)"
   ]
  },
  {
   "cell_type": "code",
   "execution_count": null,
   "id": "e39e6920",
   "metadata": {},
   "outputs": [],
   "source": []
  }
 ],
 "metadata": {
  "kernelspec": {
   "display_name": "Python 3 (ipykernel)",
   "language": "python",
   "name": "python3"
  },
  "language_info": {
   "codemirror_mode": {
    "name": "ipython",
    "version": 3
   },
   "file_extension": ".py",
   "mimetype": "text/x-python",
   "name": "python",
   "nbconvert_exporter": "python",
   "pygments_lexer": "ipython3",
   "version": "3.9.7"
  }
 },
 "nbformat": 4,
 "nbformat_minor": 5
}
